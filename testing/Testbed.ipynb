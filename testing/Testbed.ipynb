{
 "cells": [
  {
   "cell_type": "code",
   "execution_count": 2,
   "id": "e9a5d83a",
   "metadata": {},
   "outputs": [],
   "source": [
    "import json\n",
    "import re"
   ]
  },
  {
   "cell_type": "code",
   "execution_count": 3,
   "id": "c0c4fb50",
   "metadata": {},
   "outputs": [],
   "source": [
    "i2p = json.loads(open('../out/mi2p.json', 'r').read())"
   ]
  },
  {
   "cell_type": "code",
   "execution_count": 3,
   "id": "37d41308",
   "metadata": {},
   "outputs": [],
   "source": [
    "d2i = json.loads(open('../out/md2i.json', 'r').read())"
   ]
  },
  {
   "cell_type": "code",
   "execution_count": 4,
   "id": "3c1053f3",
   "metadata": {},
   "outputs": [],
   "source": [
    "c2i = json.loads(open('../out/mc2i.json', 'r').read())"
   ]
  },
  {
   "cell_type": "code",
   "execution_count": 5,
   "id": "97c9b074",
   "metadata": {},
   "outputs": [],
   "source": [
    "p2i = json.loads(open('../out/mp2i.json', 'r').read())"
   ]
  },
  {
   "cell_type": "code",
   "execution_count": 14,
   "id": "0295dcdc",
   "metadata": {},
   "outputs": [],
   "source": [
    "def stransform(k):\n",
    "    o1 = k.strip().lower()\n",
    "    o2 = re.sub(r'[^a-z0-9]', '', o1)\n",
    "    return o2"
   ]
  },
  {
   "cell_type": "code",
   "execution_count": 15,
   "id": "60e12216",
   "metadata": {},
   "outputs": [],
   "source": [
    "def render(idxs):\n",
    "    if len(idxs) == 0:\n",
    "        return \"Unknown\"\n",
    "    elif len(idxs) == 1:\n",
    "        return i2p[str(idxs[0])][0]\n",
    "    else:\n",
    "        return [i2p[str(i)][0] for i in idxs].__str__()"
   ]
  },
  {
   "cell_type": "code",
   "execution_count": 16,
   "id": "ad58d17c",
   "metadata": {},
   "outputs": [],
   "source": [
    "def find_province(residential_province, residential_city, residential_district):\n",
    "    \n",
    "    p = stransform(residential_province)\n",
    "    if p in p2i:\n",
    "        return render(p2i[p])\n",
    "\n",
    "    c = stransform(residential_city)\n",
    "    if c in c2i:\n",
    "        return render(c2i[c])\n",
    "    \n",
    "    d = stransform(residential_district)\n",
    "    if d in d2i:\n",
    "        return render(d2i[d])\n",
    "    \n",
    "    return \"Unknown\""
   ]
  },
  {
   "cell_type": "code",
   "execution_count": 17,
   "id": "faf138f7",
   "metadata": {},
   "outputs": [
    {
     "data": {
      "text/plain": [
       "'sulawesi utara'"
      ]
     },
     "execution_count": 17,
     "metadata": {},
     "output_type": "execute_result"
    }
   ],
   "source": [
    "find_province('sulut', 'test', 'test2')"
   ]
  },
  {
   "cell_type": "code",
   "execution_count": null,
   "id": "9345fc0a",
   "metadata": {},
   "outputs": [],
   "source": []
  },
  {
   "cell_type": "code",
   "execution_count": null,
   "id": "af2ebab4",
   "metadata": {},
   "outputs": [],
   "source": []
  }
 ],
 "metadata": {
  "kernelspec": {
   "display_name": "Python 3 (ipykernel)",
   "language": "python",
   "name": "python3"
  },
  "language_info": {
   "codemirror_mode": {
    "name": "ipython",
    "version": 3
   },
   "file_extension": ".py",
   "mimetype": "text/x-python",
   "name": "python",
   "nbconvert_exporter": "python",
   "pygments_lexer": "ipython3",
   "version": "3.9.6"
  }
 },
 "nbformat": 4,
 "nbformat_minor": 5
}
