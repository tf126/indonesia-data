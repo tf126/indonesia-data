{
 "cells": [
  {
   "cell_type": "code",
   "execution_count": 5,
   "id": "e9a5d83a",
   "metadata": {},
   "outputs": [],
   "source": [
    "from find_province import find_province"
   ]
  },
  {
   "cell_type": "code",
   "execution_count": 7,
   "id": "faf138f7",
   "metadata": {},
   "outputs": [
    {
     "data": {
      "text/plain": [
       "'sulawesi utara'"
      ]
     },
     "execution_count": 7,
     "metadata": {},
     "output_type": "execute_result"
    }
   ],
   "source": [
    "find_province('sulut', 'test', 'test2')"
   ]
  },
  {
   "cell_type": "code",
   "execution_count": 8,
   "id": "9345fc0a",
   "metadata": {},
   "outputs": [
    {
     "data": {
      "text/plain": [
       "\"[['jawa barat'], ['jawa tengah'], ['banten']]\""
      ]
     },
     "execution_count": 8,
     "metadata": {},
     "output_type": "execute_result"
    }
   ],
   "source": [
    "find_province('', '', 'banjarsari')"
   ]
  },
  {
   "cell_type": "code",
   "execution_count": null,
   "id": "af2ebab4",
   "metadata": {},
   "outputs": [],
   "source": []
  }
 ],
 "metadata": {
  "kernelspec": {
   "display_name": "Python 3 (ipykernel)",
   "language": "python",
   "name": "python3"
  },
  "language_info": {
   "codemirror_mode": {
    "name": "ipython",
    "version": 3
   },
   "file_extension": ".py",
   "mimetype": "text/x-python",
   "name": "python",
   "nbconvert_exporter": "python",
   "pygments_lexer": "ipython3",
   "version": "3.9.6"
  }
 },
 "nbformat": 4,
 "nbformat_minor": 5
}
